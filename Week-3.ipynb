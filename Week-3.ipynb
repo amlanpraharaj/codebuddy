{
 "cells": [
  {
   "cell_type": "code",
   "execution_count": 26,
   "metadata": {
    "collapsed": true
   },
   "outputs": [],
   "source": [
    "def max_crossing_sum(array, left, right, mid) :\n",
    "    _sum = 0\n",
    "    left_sum = -99999     \n",
    "    for i in range(mid, left-1, -1) :\n",
    "        _sum = _sum + array[i]\n",
    "         \n",
    "        if (_sum > left_sum) :\n",
    "            left_sum = _sum\n",
    "    _sum = 0\n",
    "    right_sum = -99999\n",
    "    for i in range(mid + 1, right + 1) :\n",
    "        _sum = _sum + array[i]\n",
    "         \n",
    "        if (_sum > right_sum) :\n",
    "            right_sum = _sum\n",
    "    return left_sum + right_sum"
   ]
  },
  {
   "cell_type": "code",
   "execution_count": 55,
   "metadata": {},
   "outputs": [],
   "source": [
    "def max_sum(array, left, right, k):\n",
    "    mid = int((left + right)/2)\n",
    "    if(left == right - k + 1):\n",
    "        return(sum(array[left : right + 1]))\n",
    "    \n",
    "    elif(left < right - k):\n",
    "        return(max(-9999, max_crossing_sum(array, left, right, mid)))\n",
    "    \n",
    "    else:\n",
    "        return(max(max_sum(array, left, mid, k), max_sum(array, mid + 1, right, k), max_crossing_sum(array, left, right, mid)))"
   ]
  },
  {
   "cell_type": "code",
   "execution_count": 56,
   "metadata": {},
   "outputs": [
    {
     "data": {
      "text/plain": [
       "-1"
      ]
     },
     "execution_count": 56,
     "metadata": {},
     "output_type": "execute_result"
    }
   ],
   "source": [
    "array = [-4, -2, 1, -3]\n",
    "max_sum(array, 0, len(array) - 1, 2)"
   ]
  },
  {
   "cell_type": "code",
   "execution_count": 57,
   "metadata": {},
   "outputs": [
    {
     "data": {
      "text/plain": [
       "6"
      ]
     },
     "execution_count": 57,
     "metadata": {},
     "output_type": "execute_result"
    }
   ],
   "source": [
    "array = [1] * 6\n",
    "max_sum(array, 0, len(array) - 1, 2)"
   ]
  },
  {
   "cell_type": "code",
   "execution_count": null,
   "metadata": {
    "collapsed": true
   },
   "outputs": [],
   "source": []
  }
 ],
 "metadata": {
  "kernelspec": {
   "display_name": "Python 3",
   "language": "python",
   "name": "python3"
  },
  "language_info": {
   "codemirror_mode": {
    "name": "ipython",
    "version": 3
   },
   "file_extension": ".py",
   "mimetype": "text/x-python",
   "name": "python",
   "nbconvert_exporter": "python",
   "pygments_lexer": "ipython3",
   "version": "3.6.1"
  }
 },
 "nbformat": 4,
 "nbformat_minor": 2
}
