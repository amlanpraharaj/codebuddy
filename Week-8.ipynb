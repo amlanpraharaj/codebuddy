{
 "cells": [
  {
   "cell_type": "markdown",
   "metadata": {},
   "source": [
    "Solution to Problem 1"
   ]
  },
  {
   "cell_type": "code",
   "execution_count": 53,
   "metadata": {},
   "outputs": [
    {
     "name": "stdout",
     "output_type": "stream",
     "text": [
      "13\n"
     ]
    }
   ],
   "source": [
    "def if_difficult(word):\n",
    "    count = 0\n",
    "    cons_count = 0\n",
    "    for char in word.lower():\n",
    "        if char not in \"aeiou\":\n",
    "            cons_count += 1\n",
    "            count += 1\n",
    "            if(count >= 4):\n",
    "                return(1)\n",
    "        else:\n",
    "            count = 0\n",
    "    if(cons_count > len(word)/2):\n",
    "        return(1)\n",
    "    else:\n",
    "        return(0)\n",
    "\n",
    "sentence = 'Difficulty of sentence'\n",
    "score = 0\n",
    "for word in sentence.split():\n",
    "    if(if_difficult(word)):\n",
    "        score += 5\n",
    "    else:\n",
    "        score += 3\n",
    "print(score)"
   ]
  },
  {
   "cell_type": "code",
   "execution_count": null,
   "metadata": {
    "collapsed": true
   },
   "outputs": [],
   "source": [
    "Solution to Pro"
   ]
  },
  {
   "cell_type": "code",
   "execution_count": 54,
   "metadata": {},
   "outputs": [
    {
     "name": "stdout",
     "output_type": "stream",
     "text": [
      "['b', 'd', 'a', 'c']\n"
     ]
    }
   ],
   "source": [
    "alpha = []\n",
    "word_list = []\n",
    "words = ['baa', 'abcd', 'abca', 'cab', 'cad']\n",
    "words.append('123')\n",
    "count = 0\n",
    "while count < len(words)-1:\n",
    "    word_list.append(words[count])\n",
    "    if words[count][0] == words[count + 1][0]:\n",
    "        word_list.append(words[count + 1])\n",
    "        count += 1\n",
    "    else:\n",
    "        if(len(word_list) == 1):\n",
    "            alpha.append(words[count][0])\n",
    "            word_list = []\n",
    "            count += 1\n",
    "            \n",
    "        else:\n",
    "            alpha.append(word_list[0][0])\n",
    "            for i in range(1, min([len(x) for x in word_list])):\n",
    "                for j in range(len(word_list)-1):\n",
    "                    if(word_list[j][i] != word_list[j+1][i] and word_list[j][i] not in alpha):\n",
    "                        if(word_list[j + 1][i] in alpha):\n",
    "                            alpha.insert(alpha.index(word_list[j + 1][i]), word_list[j][i])\n",
    "                        else:\n",
    "                            alpha.append(word_list[j+1][i])\n",
    "                        if(word_list[j+1][i] not in alpha):\n",
    "                            alpha.append(word_list[j+1][i])\n",
    "            \n",
    "            word_list = []\n",
    "            count += 1\n",
    "print(alpha)"
   ]
  },
  {
   "cell_type": "code",
   "execution_count": null,
   "metadata": {
    "collapsed": true
   },
   "outputs": [],
   "source": []
  }
 ],
 "metadata": {
  "kernelspec": {
   "display_name": "Python 3",
   "language": "python",
   "name": "python3"
  },
  "language_info": {
   "codemirror_mode": {
    "name": "ipython",
    "version": 3
   },
   "file_extension": ".py",
   "mimetype": "text/x-python",
   "name": "python",
   "nbconvert_exporter": "python",
   "pygments_lexer": "ipython3",
   "version": "3.6.1"
  }
 },
 "nbformat": 4,
 "nbformat_minor": 2
}
